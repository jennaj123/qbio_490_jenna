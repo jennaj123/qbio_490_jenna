{
 "cells": [
  {
   "cell_type": "markdown",
   "id": "c71b1e59",
   "metadata": {},
   "source": [
    "\n",
    "# Proteomic Analyses Continued\n",
    "\n",
    "This document will take you through plotting proteomic data."
   ]
  },
  {
   "cell_type": "markdown",
   "id": "95dce80a",
   "metadata": {},
   "source": [
    "## (0) Setup\n",
    "\n",
    "1. Set your working director.\n",
    "2. Import cptac, numpy (np), and pandas (pd).\n",
    "3. Download the Brca dataset\n",
    "4. Extract the clinical, transcriptomic, and proteomic dataframes from the Brca object"
   ]
  },
  {
   "cell_type": "code",
   "execution_count": 47,
   "id": "ae925c81",
   "metadata": {
    "scrolled": true
   },
   "outputs": [
    {
     "name": "stdout",
     "output_type": "stream",
     "text": [
      "                                         \r"
     ]
    }
   ],
   "source": [
    "# set your working director to analysis data\n",
    "import os\n",
    "os.chdir('/Users/JennaJacobs/Documents/USC/qbio490/qbio_490_jenna/analysis_data')\n",
    "\n",
    "# import cptac, numpy, and pandas\n",
    "import cptac\n",
    "import numpy as np\n",
    "import pandas as pd\n",
    "\n",
    "# download the Brca dataset\n",
    "cptac.download(dataset=\"Brca\")\n",
    "brca = cptac.Brca()\n",
    "\n",
    "# extract the data\n",
    "clinical_data = brca.get_clinical()\n",
    "transcriptomic_data = brca.get_transcriptomics()\n",
    "protein_data = brca.get_proteomics()\n",
    "protein_data.columns = protein_data.columns.get_level_values(0) "
   ]
  },
  {
   "cell_type": "markdown",
   "id": "22db65f2",
   "metadata": {},
   "source": [
    "## (1) Plotting with matplotlib\n",
    "\n",
    "Let's explore some more complex ways to plot using the Matplotlib package.\n",
    "\n",
    "Import pyplot from matplotlib as its common handle (plt)"
   ]
  },
  {
   "cell_type": "code",
   "execution_count": 48,
   "id": "4ecd10bc",
   "metadata": {},
   "outputs": [],
   "source": [
    "# Write code here\n",
    "import matplotlib.pyplot as plt"
   ]
  },
  {
   "cell_type": "markdown",
   "id": "cf66e4dd",
   "metadata": {},
   "source": [
    "Let's explore how the proteomic expression of a gene differs between young and old patients.\n",
    "\n",
    "**Exercise 1.1** Plot the expression data of a chosen protein stratified between young ($\\lt$50) and old ($\\ge$ 50) patients."
   ]
  },
  {
   "cell_type": "code",
   "execution_count": 49,
   "id": "fe2bdb81",
   "metadata": {},
   "outputs": [
    {
     "data": {
      "text/html": [
       "<div>\n",
       "<style scoped>\n",
       "    .dataframe tbody tr th:only-of-type {\n",
       "        vertical-align: middle;\n",
       "    }\n",
       "\n",
       "    .dataframe tbody tr th {\n",
       "        vertical-align: top;\n",
       "    }\n",
       "\n",
       "    .dataframe thead th {\n",
       "        text-align: right;\n",
       "    }\n",
       "</style>\n",
       "<table border=\"1\" class=\"dataframe\">\n",
       "  <thead>\n",
       "    <tr style=\"text-align: right;\">\n",
       "      <th>Name</th>\n",
       "      <th>A1BG</th>\n",
       "      <th>A2M</th>\n",
       "      <th>A2ML1</th>\n",
       "      <th>AAAS</th>\n",
       "      <th>AACS</th>\n",
       "      <th>AADAT</th>\n",
       "      <th>AAED1</th>\n",
       "      <th>AAGAB</th>\n",
       "      <th>AAK1</th>\n",
       "      <th>AAMDC</th>\n",
       "      <th>...</th>\n",
       "      <th>ZSCAN31</th>\n",
       "      <th>ZSWIM8</th>\n",
       "      <th>ZW10</th>\n",
       "      <th>ZWILCH</th>\n",
       "      <th>ZWINT</th>\n",
       "      <th>ZXDC</th>\n",
       "      <th>ZYG11B</th>\n",
       "      <th>ZYX</th>\n",
       "      <th>ZZEF1</th>\n",
       "      <th>ZZZ3</th>\n",
       "    </tr>\n",
       "    <tr>\n",
       "      <th>Patient_ID</th>\n",
       "      <th></th>\n",
       "      <th></th>\n",
       "      <th></th>\n",
       "      <th></th>\n",
       "      <th></th>\n",
       "      <th></th>\n",
       "      <th></th>\n",
       "      <th></th>\n",
       "      <th></th>\n",
       "      <th></th>\n",
       "      <th></th>\n",
       "      <th></th>\n",
       "      <th></th>\n",
       "      <th></th>\n",
       "      <th></th>\n",
       "      <th></th>\n",
       "      <th></th>\n",
       "      <th></th>\n",
       "      <th></th>\n",
       "      <th></th>\n",
       "      <th></th>\n",
       "    </tr>\n",
       "  </thead>\n",
       "  <tbody>\n",
       "    <tr>\n",
       "      <th>CPT000814</th>\n",
       "      <td>-0.6712</td>\n",
       "      <td>-0.2075</td>\n",
       "      <td>2.7959</td>\n",
       "      <td>1.3969</td>\n",
       "      <td>-1.0899</td>\n",
       "      <td>NaN</td>\n",
       "      <td>1.6708</td>\n",
       "      <td>-0.3484</td>\n",
       "      <td>-0.4756</td>\n",
       "      <td>-0.7299</td>\n",
       "      <td>...</td>\n",
       "      <td>-5.2868</td>\n",
       "      <td>-0.6536</td>\n",
       "      <td>0.3384</td>\n",
       "      <td>2.1169</td>\n",
       "      <td>1.3910</td>\n",
       "      <td>-2.1230</td>\n",
       "      <td>0.9136</td>\n",
       "      <td>-0.8082</td>\n",
       "      <td>-1.4793</td>\n",
       "      <td>0.9136</td>\n",
       "    </tr>\n",
       "    <tr>\n",
       "      <th>CPT001846</th>\n",
       "      <td>1.3964</td>\n",
       "      <td>1.3302</td>\n",
       "      <td>-5.0948</td>\n",
       "      <td>0.7674</td>\n",
       "      <td>-1.6845</td>\n",
       "      <td>NaN</td>\n",
       "      <td>2.1022</td>\n",
       "      <td>-0.5814</td>\n",
       "      <td>0.2916</td>\n",
       "      <td>-2.2857</td>\n",
       "      <td>...</td>\n",
       "      <td>-0.7592</td>\n",
       "      <td>0.4711</td>\n",
       "      <td>0.6018</td>\n",
       "      <td>0.2062</td>\n",
       "      <td>-0.2137</td>\n",
       "      <td>-2.1219</td>\n",
       "      <td>0.0860</td>\n",
       "      <td>2.5814</td>\n",
       "      <td>-0.2852</td>\n",
       "      <td>-0.1074</td>\n",
       "    </tr>\n",
       "    <tr>\n",
       "      <th>X01BR001</th>\n",
       "      <td>2.0219</td>\n",
       "      <td>1.6269</td>\n",
       "      <td>-3.2943</td>\n",
       "      <td>0.3352</td>\n",
       "      <td>-1.0739</td>\n",
       "      <td>1.2255</td>\n",
       "      <td>0.2754</td>\n",
       "      <td>-1.1187</td>\n",
       "      <td>-0.0534</td>\n",
       "      <td>-0.2519</td>\n",
       "      <td>...</td>\n",
       "      <td>NaN</td>\n",
       "      <td>0.2306</td>\n",
       "      <td>-0.3010</td>\n",
       "      <td>0.3395</td>\n",
       "      <td>-0.5316</td>\n",
       "      <td>NaN</td>\n",
       "      <td>0.4996</td>\n",
       "      <td>0.7622</td>\n",
       "      <td>-1.5607</td>\n",
       "      <td>0.0256</td>\n",
       "    </tr>\n",
       "    <tr>\n",
       "      <th>X01BR008</th>\n",
       "      <td>-0.5290</td>\n",
       "      <td>0.3267</td>\n",
       "      <td>1.4342</td>\n",
       "      <td>0.4938</td>\n",
       "      <td>-2.8676</td>\n",
       "      <td>NaN</td>\n",
       "      <td>NaN</td>\n",
       "      <td>-1.0691</td>\n",
       "      <td>-0.3643</td>\n",
       "      <td>-1.8173</td>\n",
       "      <td>...</td>\n",
       "      <td>-2.1789</td>\n",
       "      <td>0.2695</td>\n",
       "      <td>0.1506</td>\n",
       "      <td>1.0498</td>\n",
       "      <td>0.7546</td>\n",
       "      <td>1.7889</td>\n",
       "      <td>-0.2499</td>\n",
       "      <td>-0.2590</td>\n",
       "      <td>-0.1263</td>\n",
       "      <td>0.3725</td>\n",
       "    </tr>\n",
       "    <tr>\n",
       "      <th>X01BR009</th>\n",
       "      <td>1.2556</td>\n",
       "      <td>3.4489</td>\n",
       "      <td>2.8043</td>\n",
       "      <td>-0.2956</td>\n",
       "      <td>-1.7261</td>\n",
       "      <td>NaN</td>\n",
       "      <td>NaN</td>\n",
       "      <td>-2.0471</td>\n",
       "      <td>-0.3547</td>\n",
       "      <td>-0.8298</td>\n",
       "      <td>...</td>\n",
       "      <td>-2.3990</td>\n",
       "      <td>-0.2596</td>\n",
       "      <td>0.1898</td>\n",
       "      <td>-0.5010</td>\n",
       "      <td>-0.4189</td>\n",
       "      <td>0.3080</td>\n",
       "      <td>0.5057</td>\n",
       "      <td>0.2181</td>\n",
       "      <td>-0.2288</td>\n",
       "      <td>-0.2750</td>\n",
       "    </tr>\n",
       "    <tr>\n",
       "      <th>...</th>\n",
       "      <td>...</td>\n",
       "      <td>...</td>\n",
       "      <td>...</td>\n",
       "      <td>...</td>\n",
       "      <td>...</td>\n",
       "      <td>...</td>\n",
       "      <td>...</td>\n",
       "      <td>...</td>\n",
       "      <td>...</td>\n",
       "      <td>...</td>\n",
       "      <td>...</td>\n",
       "      <td>...</td>\n",
       "      <td>...</td>\n",
       "      <td>...</td>\n",
       "      <td>...</td>\n",
       "      <td>...</td>\n",
       "      <td>...</td>\n",
       "      <td>...</td>\n",
       "      <td>...</td>\n",
       "      <td>...</td>\n",
       "      <td>...</td>\n",
       "    </tr>\n",
       "    <tr>\n",
       "      <th>X21BR001</th>\n",
       "      <td>-0.6610</td>\n",
       "      <td>-0.6402</td>\n",
       "      <td>-4.8578</td>\n",
       "      <td>1.2319</td>\n",
       "      <td>-1.6491</td>\n",
       "      <td>NaN</td>\n",
       "      <td>NaN</td>\n",
       "      <td>-0.3074</td>\n",
       "      <td>-0.3074</td>\n",
       "      <td>-0.0266</td>\n",
       "      <td>...</td>\n",
       "      <td>-0.2528</td>\n",
       "      <td>0.5090</td>\n",
       "      <td>0.0306</td>\n",
       "      <td>0.4908</td>\n",
       "      <td>-0.5570</td>\n",
       "      <td>2.3864</td>\n",
       "      <td>0.3764</td>\n",
       "      <td>-0.6974</td>\n",
       "      <td>1.3541</td>\n",
       "      <td>1.1123</td>\n",
       "    </tr>\n",
       "    <tr>\n",
       "      <th>X21BR002</th>\n",
       "      <td>-1.3735</td>\n",
       "      <td>0.4227</td>\n",
       "      <td>-4.9553</td>\n",
       "      <td>0.6327</td>\n",
       "      <td>-3.1434</td>\n",
       "      <td>NaN</td>\n",
       "      <td>NaN</td>\n",
       "      <td>0.3071</td>\n",
       "      <td>0.7562</td>\n",
       "      <td>-1.6912</td>\n",
       "      <td>...</td>\n",
       "      <td>-3.3351</td>\n",
       "      <td>0.1548</td>\n",
       "      <td>1.0792</td>\n",
       "      <td>-0.6619</td>\n",
       "      <td>-1.4444</td>\n",
       "      <td>-0.3704</td>\n",
       "      <td>0.4909</td>\n",
       "      <td>0.3938</td>\n",
       "      <td>0.2992</td>\n",
       "      <td>-0.3494</td>\n",
       "    </tr>\n",
       "    <tr>\n",
       "      <th>X21BR010</th>\n",
       "      <td>1.1583</td>\n",
       "      <td>0.3329</td>\n",
       "      <td>-5.7358</td>\n",
       "      <td>-0.1658</td>\n",
       "      <td>-2.0413</td>\n",
       "      <td>-1.2433</td>\n",
       "      <td>0.9090</td>\n",
       "      <td>-0.2410</td>\n",
       "      <td>0.6717</td>\n",
       "      <td>-0.1651</td>\n",
       "      <td>...</td>\n",
       "      <td>-0.7054</td>\n",
       "      <td>0.2752</td>\n",
       "      <td>0.8850</td>\n",
       "      <td>-2.6704</td>\n",
       "      <td>-0.9444</td>\n",
       "      <td>-1.9717</td>\n",
       "      <td>0.0650</td>\n",
       "      <td>0.6300</td>\n",
       "      <td>-0.0686</td>\n",
       "      <td>0.1798</td>\n",
       "    </tr>\n",
       "    <tr>\n",
       "      <th>X22BR005</th>\n",
       "      <td>0.4948</td>\n",
       "      <td>-1.0986</td>\n",
       "      <td>-8.8314</td>\n",
       "      <td>0.2826</td>\n",
       "      <td>-1.0123</td>\n",
       "      <td>-2.5732</td>\n",
       "      <td>5.7567</td>\n",
       "      <td>1.7644</td>\n",
       "      <td>0.5415</td>\n",
       "      <td>0.1531</td>\n",
       "      <td>...</td>\n",
       "      <td>-0.3936</td>\n",
       "      <td>-0.0340</td>\n",
       "      <td>-0.9367</td>\n",
       "      <td>-0.1922</td>\n",
       "      <td>1.2572</td>\n",
       "      <td>1.3220</td>\n",
       "      <td>-1.0698</td>\n",
       "      <td>0.4012</td>\n",
       "      <td>-0.3792</td>\n",
       "      <td>1.2752</td>\n",
       "    </tr>\n",
       "    <tr>\n",
       "      <th>X22BR006</th>\n",
       "      <td>0.5049</td>\n",
       "      <td>-0.6582</td>\n",
       "      <td>-7.4699</td>\n",
       "      <td>0.6570</td>\n",
       "      <td>-0.7239</td>\n",
       "      <td>NaN</td>\n",
       "      <td>0.6420</td>\n",
       "      <td>2.2376</td>\n",
       "      <td>-0.7597</td>\n",
       "      <td>0.1589</td>\n",
       "      <td>...</td>\n",
       "      <td>0.5526</td>\n",
       "      <td>0.3468</td>\n",
       "      <td>1.0655</td>\n",
       "      <td>-1.2607</td>\n",
       "      <td>-2.2866</td>\n",
       "      <td>1.0775</td>\n",
       "      <td>-0.1334</td>\n",
       "      <td>2.5269</td>\n",
       "      <td>1.4294</td>\n",
       "      <td>0.4542</td>\n",
       "    </tr>\n",
       "  </tbody>\n",
       "</table>\n",
       "<p>122 rows × 10107 columns</p>\n",
       "</div>"
      ],
      "text/plain": [
       "Name          A1BG     A2M   A2ML1    AAAS    AACS   AADAT   AAED1   AAGAB  \\\n",
       "Patient_ID                                                                   \n",
       "CPT000814  -0.6712 -0.2075  2.7959  1.3969 -1.0899     NaN  1.6708 -0.3484   \n",
       "CPT001846   1.3964  1.3302 -5.0948  0.7674 -1.6845     NaN  2.1022 -0.5814   \n",
       "X01BR001    2.0219  1.6269 -3.2943  0.3352 -1.0739  1.2255  0.2754 -1.1187   \n",
       "X01BR008   -0.5290  0.3267  1.4342  0.4938 -2.8676     NaN     NaN -1.0691   \n",
       "X01BR009    1.2556  3.4489  2.8043 -0.2956 -1.7261     NaN     NaN -2.0471   \n",
       "...            ...     ...     ...     ...     ...     ...     ...     ...   \n",
       "X21BR001   -0.6610 -0.6402 -4.8578  1.2319 -1.6491     NaN     NaN -0.3074   \n",
       "X21BR002   -1.3735  0.4227 -4.9553  0.6327 -3.1434     NaN     NaN  0.3071   \n",
       "X21BR010    1.1583  0.3329 -5.7358 -0.1658 -2.0413 -1.2433  0.9090 -0.2410   \n",
       "X22BR005    0.4948 -1.0986 -8.8314  0.2826 -1.0123 -2.5732  5.7567  1.7644   \n",
       "X22BR006    0.5049 -0.6582 -7.4699  0.6570 -0.7239     NaN  0.6420  2.2376   \n",
       "\n",
       "Name          AAK1   AAMDC  ...  ZSCAN31  ZSWIM8    ZW10  ZWILCH   ZWINT  \\\n",
       "Patient_ID                  ...                                            \n",
       "CPT000814  -0.4756 -0.7299  ...  -5.2868 -0.6536  0.3384  2.1169  1.3910   \n",
       "CPT001846   0.2916 -2.2857  ...  -0.7592  0.4711  0.6018  0.2062 -0.2137   \n",
       "X01BR001   -0.0534 -0.2519  ...      NaN  0.2306 -0.3010  0.3395 -0.5316   \n",
       "X01BR008   -0.3643 -1.8173  ...  -2.1789  0.2695  0.1506  1.0498  0.7546   \n",
       "X01BR009   -0.3547 -0.8298  ...  -2.3990 -0.2596  0.1898 -0.5010 -0.4189   \n",
       "...            ...     ...  ...      ...     ...     ...     ...     ...   \n",
       "X21BR001   -0.3074 -0.0266  ...  -0.2528  0.5090  0.0306  0.4908 -0.5570   \n",
       "X21BR002    0.7562 -1.6912  ...  -3.3351  0.1548  1.0792 -0.6619 -1.4444   \n",
       "X21BR010    0.6717 -0.1651  ...  -0.7054  0.2752  0.8850 -2.6704 -0.9444   \n",
       "X22BR005    0.5415  0.1531  ...  -0.3936 -0.0340 -0.9367 -0.1922  1.2572   \n",
       "X22BR006   -0.7597  0.1589  ...   0.5526  0.3468  1.0655 -1.2607 -2.2866   \n",
       "\n",
       "Name          ZXDC  ZYG11B     ZYX   ZZEF1    ZZZ3  \n",
       "Patient_ID                                          \n",
       "CPT000814  -2.1230  0.9136 -0.8082 -1.4793  0.9136  \n",
       "CPT001846  -2.1219  0.0860  2.5814 -0.2852 -0.1074  \n",
       "X01BR001       NaN  0.4996  0.7622 -1.5607  0.0256  \n",
       "X01BR008    1.7889 -0.2499 -0.2590 -0.1263  0.3725  \n",
       "X01BR009    0.3080  0.5057  0.2181 -0.2288 -0.2750  \n",
       "...            ...     ...     ...     ...     ...  \n",
       "X21BR001    2.3864  0.3764 -0.6974  1.3541  1.1123  \n",
       "X21BR002   -0.3704  0.4909  0.3938  0.2992 -0.3494  \n",
       "X21BR010   -1.9717  0.0650  0.6300 -0.0686  0.1798  \n",
       "X22BR005    1.3220 -1.0698  0.4012 -0.3792  1.2752  \n",
       "X22BR006    1.0775 -0.1334  2.5269  1.4294  0.4542  \n",
       "\n",
       "[122 rows x 10107 columns]"
      ]
     },
     "execution_count": 49,
     "metadata": {},
     "output_type": "execute_result"
    }
   ],
   "source": [
    "protein_data"
   ]
  },
  {
   "cell_type": "code",
   "execution_count": 50,
   "id": "0ee0ba55",
   "metadata": {},
   "outputs": [
    {
     "data": {
      "text/plain": [
       "[array([ 0.8946,  2.2508, -2.9497,  4.6305, -3.0666,  7.1055, -4.6992,\n",
       "        -2.128 , -1.4261, -2.3697, -4.8944,  1.1979, -3.3048, -2.4169,\n",
       "        -4.6051, -3.6754, -3.5878, -0.4667, -4.5316, -3.234 , -4.5852,\n",
       "        -3.3884, -5.6619,  3.7991, -5.4965, -3.0075, -4.9755, -4.194 ,\n",
       "        -1.5892, -3.2881, -2.4426, -3.9763, -5.6629, -2.2658, -3.3563,\n",
       "         0.2927,  5.6408, -3.7432, -5.0019, -3.8895, -3.4569, -3.2902,\n",
       "        -6.6024, -1.3525, -5.9277, -1.3417, -5.9314, -0.2019, -1.8709,\n",
       "        -3.847 , -4.3923, -1.1081, -3.8861, -3.9779, -1.5589, -4.3323,\n",
       "        -0.1534, -3.7972, -5.0635, -3.7259, -2.2523, -3.7181, -2.1031,\n",
       "        -4.3145, -3.9072, -2.0252, -6.1194, -3.0511, -5.1459, -5.4349,\n",
       "        -4.463 , -4.8643, -3.0952, -4.84  , -4.4363,  0.6959, -3.4894,\n",
       "        -3.691 , -6.274 ]),\n",
       " array([-3.0661, -0.3455, -4.9815, -2.7315, -9.1586, -4.4045, -3.5466,\n",
       "         2.1407, -2.0522, -2.9996, -2.4782, -2.1229, -4.4518, -0.2439,\n",
       "        -2.8844, -5.4191, -3.8823, -5.3336, -4.8313, -1.7124, -3.2066,\n",
       "        -3.5913, -5.3949, -4.1078, -4.1068, -3.7026])]"
      ]
     },
     "execution_count": 50,
     "metadata": {},
     "output_type": "execute_result"
    }
   ],
   "source": [
    "young_mask = np.where(clinical_data.loc[:, 'Age.in.Month']<= (50*12), True, False)\n",
    "old_mask = np.where(clinical_data.loc[:, 'Age.in.Month'] > (50*12), True, False)\n",
    "\n",
    "young = (protein_data.loc[young_mask, 'TP53']).dropna() # the age column is 'Age.in.Month', which (as stated) is in months\n",
    "old = (protein_data.loc[old_mask, 'TP53']).dropna()\n",
    "\n",
    "data = [old.values, young.values] # our boxplot function will require an array (or an array of arrays)\n",
    "data"
   ]
  },
  {
   "cell_type": "code",
   "execution_count": 51,
   "id": "1a6372e7",
   "metadata": {},
   "outputs": [
    {
     "data": {
      "image/png": "[encoded data removed]",
      "text/plain": [
       "<Figure size 640x480 with 1 Axes>"
      ]
     },
     "metadata": {},
     "output_type": "display_data"
    }
   ],
   "source": [
    "fig, ax = plt.subplots()\n",
    "\n",
    "plt.axhline(y = 0, color = 'blue', linestyle = '-')\n",
    "plt.axhline(y = -1, color = 'blue', linestyle = ':')\n",
    "plt.axhline(y = 1, color = 'blue', linestyle = ':')\n",
    "\n",
    "\n",
    "bp = ax.boxplot(data) # data goes here\n",
    "plt.xticks([1, 2], [\"old\", \"young\"]) # use \\n for new line if desired\n",
    "\n",
    "\n",
    "plt.show()"
   ]
  },
  {
   "cell_type": "markdown",
   "id": "7787a67f",
   "metadata": {},
   "source": [
    "**Exercise 1.2** Why do you think we added lines at -1, 0, and 1? What do these values represent in terms of log2FoldChange?"
   ]
  },
  {
   "cell_type": "code",
   "execution_count": 52,
   "id": "0e6f309c",
   "metadata": {},
   "outputs": [],
   "source": [
    "# answer in a comment here: 1 represents that the gene has changed double, 0 represents no change, and -1 "
   ]
  },
  {
   "cell_type": "markdown",
   "id": "8778e132",
   "metadata": {},
   "source": [
    "## (2) SciPy\n",
    "\n",
    "Another question to ask is if the levels of RNA expression correlate with protein expression. While we would expect for there to be a 1:1 relationship between RNA and protein (according to the central dogma), as you will see, this is not what we oftentimes observe."
   ]
  },
  {
   "cell_type": "code",
   "execution_count": 53,
   "id": "d9671f62",
   "metadata": {},
   "outputs": [],
   "source": [
    "from scipy import stats # we are using the stats package in particular"
   ]
  },
  {
   "cell_type": "markdown",
   "id": "fba64034",
   "metadata": {},
   "source": [
    "The first thing we need to do is to identify which patients and genes are shared between the transcriptomic and proteomic data sets.\n",
    "\n",
    "Luckily for us, all 122 patients in the Brca dataset have clinical, transcriptomic, and proteomic data. If this were not the case (such as in the colon cancer database), we would use `intersect1d()` to fix this. We will still need to use `intersect1d()` to determine which genes are shared.\n",
    "\n",
    "**Exercise 2.1** To make sure the data frames match:\n",
    "\n",
    "1. Identify the names of the genes that are shared between the two datasets (hint: use `intersect1d()`). Is this data the row or column names?\n",
    "2. Create the rna_shared and prot_shared data frames; ie dataframes with only genes that are shared between rna and protein data. (Hint: how can we access rows/columns by name?)."
   ]
  },
  {
   "cell_type": "code",
   "execution_count": 60,
   "id": "55af010c",
   "metadata": {},
   "outputs": [
    {
     "name": "stdout",
     "output_type": "stream",
     "text": [
      "Index(['A1BG', 'A2M', 'A2ML1', 'AAAS', 'AACS', 'AADAT', 'AAED1', 'AAGAB',\n",
      "       'AAK1', 'AAMDC', 'AAMP', 'AAR2', 'AARS', 'AARS2', 'AARSD1', 'AASDHPPT',\n",
      "       'AASS', 'AATF', 'ABAT', 'ABCA1'],\n",
      "      dtype='object', name='Name')\n"
     ]
    }
   ],
   "source": [
    "# 1. Identify the genes (RNA, protein) shared between the two data sets \n",
    "shared_rna_prot = np.intersect1d(protein_data.columns, transcriptomic_data.columns)\n",
    "\n",
    "# 2. Create the two data frames\n",
    "rna_shared = pd.DataFrame(transcriptomic_data[shared_rna_prot], )\n",
    "prot_shared = pd.DataFrame(protein_data[shared_rna_prot], )\n"
   ]
  },
  {
   "cell_type": "markdown",
   "id": "22dc5788",
   "metadata": {},
   "source": [
    "Now, we can see how correlated the RNA and protein levels are. We'll use Spearman correlation from the stats library, which is `spearmanr()`. \n",
    "\n",
    "**Exercise 2.2** Choose a gene and get the Spearman correlation of the rna to protein of that gene."
   ]
  },
  {
   "cell_type": "code",
   "execution_count": 55,
   "id": "feb645cd",
   "metadata": {},
   "outputs": [
    {
     "name": "stdout",
     "output_type": "stream",
     "text": [
      "The correlation of RNA and protein levels is 0.389 (p = 9.5868e-06).\n"
     ]
    }
   ],
   "source": [
    "# we need the nan_policy=\"omit\" to throw out NaN values\n",
    "corr, pval = stats.spearmanr(rna_shared[\"TP53\"], prot_shared[\"TP53\"], nan_policy=\"omit\")\n",
    "\n",
    "print(f\"The correlation of RNA and protein levels is {round(corr, 3)} (p = {round(pval, 10)}).\")"
   ]
  },
  {
   "cell_type": "markdown",
   "id": "70403bc0",
   "metadata": {},
   "source": [
    "**Exercise 2.3** What is your gene's Spearman correlation? What does that mean mathematically? What could this represent biologically? Look into the literature to see if it corroborates this idea."
   ]
  },
  {
   "cell_type": "code",
   "execution_count": 56,
   "id": "3705801e",
   "metadata": {},
   "outputs": [],
   "source": [
    "# answer in a comment here\n",
    "#The spearmans correlation is 0.389, and the p value is small, suggesting there is significant corrolation. This corroborates with literature."
   ]
  },
  {
   "cell_type": "markdown",
   "id": "d8ae2a00",
   "metadata": {},
   "source": [
    "## (3) Heatmaps\n",
    "**Exercise 3.1** A problem arises if we want to compare many correlations. Heatmaps are useful for visualizing a large number of comparisons. To make a heatmap, we'll use the `heatmap()` function from seaborn. Let's do the following:\n",
    "\n",
    "1. Set up our data frame to hold all comparisons. All you need to do is to access the first 20 gene names.\n",
    "2. Calculate the correlations for the first 20 genes (just to save time). You'll need to use two for loops.\n",
    "3. Call `clustermap()` -- this is filled in for you!\n",
    "4. Interpret the data. There is a \"light\" diagonal along the heatmap from the top-left to bottom-right. Is this expected? Why or why not?"
   ]
  },
  {
   "cell_type": "code",
   "execution_count": 57,
   "id": "0926105f",
   "metadata": {},
   "outputs": [],
   "source": [
    "# import seaborn as sns\n",
    "import seaborn as sns\n"
   ]
  },
  {
   "cell_type": "code",
   "execution_count": 61,
   "id": "767e52be",
   "metadata": {},
   "outputs": [
    {
     "data": {
      "image/png": "[encoded data removed]",
      "text/plain": [
       "<Figure size 640x480 with 2 Axes>"
      ]
     },
     "metadata": {},
     "output_type": "display_data"
    }
   ],
   "source": [
    "ncomparisons = 20 # define this variable in case we want to change the number of correlations to test\n",
    "                  # this makes it less likely you'll forget to change a number, e.g. in the data frame shape\n",
    "gene_names = rna_shared.columns[:ncomparisons]# get the first ncomparisons gene names\n",
    "\n",
    "\n",
    "# Don't worry about this code\n",
    "# It's good practice to declare your data frame beforehand (it's much faster than appending to a list)\n",
    "# We fill everything in with 0 just as a placeholder\n",
    "corr_df = pd.DataFrame(np.ndarray(shape=(ncomparisons, ncomparisons), dtype=np.float16),\n",
    "                      index = gene_names,\n",
    "                      columns = gene_names)\n",
    "\n",
    "# 2. fill in the data frame!\n",
    "for g1 in gene_names:\n",
    "    for g2 in gene_names:\n",
    "        # calculate the correlations between protein and RNA\n",
    "        # then, use .loc[] to store the correlation in corr_df\n",
    "        corr, pval = stats.spearmanr(rna_shared[f\"{g1}\"], prot_shared[f\"{g2}\"], nan_policy= 'omit')\n",
    "        corr_df.loc[g1,g2] = corr\n",
    "\n",
    "# 3. create the heat map\n",
    "plot = sns.heatmap(\n",
    "    corr_df,\n",
    "    cmap='mako',\n",
    ")\n",
    "plot.set_xlabel('Protein', fontsize=10)\n",
    "plot.set_ylabel('RNA', fontsize=10)\n",
    "plt.show()\n",
    "\n",
    "# 4. interpret!\n",
    "#This is expected as they are being compared with themseleves"
   ]
  },
  {
   "cell_type": "markdown",
   "id": "d110d20d",
   "metadata": {},
   "source": [
    "## (4) Plotting with Seaborn"
   ]
  },
  {
   "cell_type": "markdown",
   "id": "ca0cce21",
   "metadata": {},
   "source": [
    "`seaborn` is a nice package that makes prettier plots with more control over the figure.\n",
    "\n",
    "Here's how you make a scatter plot with seaborn, for example:"
   ]
  },
  {
   "cell_type": "code",
   "execution_count": null,
   "id": "6ceb20cf",
   "metadata": {
    "scrolled": false
   },
   "outputs": [],
   "source": [
    "fig, ax = plt.subplots()\n",
    "\n",
    "sns.scatterplot( # x-axis\n",
    "    x = clinical_data.loc[:, \"Age.in.Month\"],\n",
    "    y = protein_data.loc[:, \"DYNLT3\"],# y-axis\n",
    "    legend = \"full\",  # show the legend\n",
    "    ax = ax  # necessary for when plotting more than 1 subplot\n",
    ")\n",
    "\n",
    "fig.suptitle('Age vs. DYNLT3')  # set title\n",
    "\n",
    "plt.show()"
   ]
  },
  {
   "cell_type": "markdown",
   "id": "5a06d33b",
   "metadata": {},
   "source": [
    "**Exercise 4.1** Update the above plot to:\n",
    "1. Have age in years instead of months.\n",
    "2. Color patients based on gender (or another clinical variable of your choosing)\n",
    "3. Have a side-by-side second plot with a different protein of your choosing\n",
    "\n",
    "NOTE: you will need to Google to figure out how to do most of the above things!"
   ]
  },
  {
   "cell_type": "code",
   "execution_count": null,
   "id": "18fbcbc1",
   "metadata": {},
   "outputs": [],
   "source": [
    "# create plot here\n",
    "clinical_data.loc[:, 'Age'] = pd.Series(clinical_data.loc[:, 'Age.in.Month']/12)\n",
    "\n",
    "fig, ax = plt.subplots() \n",
    "\n",
    "sns.scatterplot( # x-axis\n",
    "    x = clinical_data.loc[:, \"Age\"]/12,\n",
    "    y = protein_data.loc[:, \"DYNLT3\"],# y-axis\n",
    "    legend = \"full\",  # show the legend\n",
    "    hue = clinical_data.loc[:, 'Gender'],\n",
    "    palette=\"Set2\",\n",
    "    ax = ax  # necessary for when plotting more than 1 subplot\n",
    ")\n",
    "fig.suptitle('Age vs. DYNLT3')  # set title\n",
    "plt.show()\n",
    "\n",
    "fig, ax = plt.subplots() \n",
    "sns.scatterplot(\n",
    "    x = clinical_data.loc[:, \"Age\"]/12,\n",
    "    y = protein_data.loc[:, \"TP53\"],# y-axis\n",
    "    legend = \"full\",  # show the legend\n",
    "    hue = clinical_data.loc[:, 'Gender'],\n",
    "    ax = ax  # necessary for when plotting more than 1 subplot\n",
    "\n",
    ")\n",
    "fig.suptitle('Age vs TP53')\n",
    "plt.show()"
   ]
  },
  {
   "cell_type": "markdown",
   "id": "7dc046de",
   "metadata": {},
   "source": [
    "## (5) Saving Plots\n",
    "\n",
    "Finally, to save a plot, we can call `plt.savefig()` instead of the `plt.show()`."
   ]
  },
  {
   "cell_type": "code",
   "execution_count": null,
   "id": "d4df97f2",
   "metadata": {},
   "outputs": [],
   "source": [
    "fig, ax = plt.subplots()\n",
    "\n",
    "sns.scatterplot( # x-axis\n",
    "    x = clinical_data.loc[:, \"Age.in.Month\"],\n",
    "    y = protein_data.loc[:, \"DYNLT3\"],# y-axis\n",
    "    legend = \"full\",  # show the legend\n",
    "    ax = ax  # necessary for when plotting more than 1 subplot\n",
    ")\n",
    "\n",
    "fig.suptitle('Age vs. DYNLT3')  # set title\n",
    "\n",
    "# age_scatter.png is a relative path so check your working directory before running it\n",
    "plt.savefig('age_scatter.png', bbox_inches='tight')"
   ]
  }
 ],
 "metadata": {
  "kernelspec": {
   "display_name": "Python 3 (ipykernel)",
   "language": "python",
   "name": "python3"
  },
  "language_info": {
   "codemirror_mode": {
    "name": "ipython",
    "version": 3
   },
   "file_extension": ".py",
   "mimetype": "text/x-python",
   "name": "python",
   "nbconvert_exporter": "python",
   "pygments_lexer": "ipython3",
   "version": "3.9.13"
  }
 },
 "nbformat": 4,
 "nbformat_minor": 5
}
